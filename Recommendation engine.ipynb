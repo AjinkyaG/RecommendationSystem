{
 "cells": [
  {
   "cell_type": "code",
   "execution_count": 1,
   "metadata": {
    "collapsed": false
   },
   "outputs": [
    {
     "name": "stderr",
     "output_type": "stream",
     "text": [
      "C:\\Users\\Ajinkya\\Anaconda2\\lib\\site-packages\\matplotlib\\__init__.py:872: UserWarning: axes.color_cycle is deprecated and replaced with axes.prop_cycle; please use the latter.\n",
      "  warnings.warn(self.msg_depr % (key, alt_key))\n"
     ]
    }
   ],
   "source": [
    "%matplotlib inline\n",
    "from collections import defaultdict\n",
    "import json\n",
    "\n",
    "import numpy as np\n",
    "import scipy as sp\n",
    "import matplotlib.pyplot as plt\n",
    "import pandas as pd\n",
    "\n",
    "from matplotlib import rcParams\n",
    "import matplotlib.cm as cm\n",
    "import matplotlib as mpl\n",
    "\n",
    "#colorbrewer2 Dark2 qualitative color table\n",
    "dark2_colors = [(0.10588235294117647, 0.6196078431372549, 0.4666666666666667),\n",
    "                (0.8509803921568627, 0.37254901960784315, 0.00784313725490196),\n",
    "                (0.4588235294117647, 0.4392156862745098, 0.7019607843137254),\n",
    "                (0.9058823529411765, 0.1607843137254902, 0.5411764705882353),\n",
    "                (0.4, 0.6509803921568628, 0.11764705882352941),\n",
    "                (0.9019607843137255, 0.6705882352941176, 0.00784313725490196),\n",
    "                (0.6509803921568628, 0.4627450980392157, 0.11372549019607843)]\n",
    "\n",
    "rcParams['figure.figsize'] = (10, 6)\n",
    "rcParams['figure.dpi'] = 150\n",
    "rcParams['axes.color_cycle'] = dark2_colors\n",
    "rcParams['lines.linewidth'] = 2\n",
    "rcParams['axes.facecolor'] = 'white'\n",
    "rcParams['font.size'] = 14\n",
    "rcParams['patch.edgecolor'] = 'white'\n",
    "rcParams['patch.facecolor'] = dark2_colors[0]\n",
    "rcParams['font.family'] = 'StixGeneral'\n",
    "\n",
    "\n",
    "def remove_border(axes=None, top=False, right=False, left=True, bottom=True):\n",
    "    \"\"\"\n",
    "    Minimize chartjunk by stripping out unnecesasry plot borders and axis ticks\n",
    "    \n",
    "    The top/right/left/bottom keywords toggle whether the corresponding plot border is drawn\n",
    "    \"\"\"\n",
    "    ax = axes or plt.gca()\n",
    "    ax.spines['top'].set_visible(top)\n",
    "    ax.spines['right'].set_visible(right)\n",
    "    ax.spines['left'].set_visible(left)\n",
    "    ax.spines['bottom'].set_visible(bottom)\n",
    "    \n",
    "    #turn off all ticks\n",
    "    ax.yaxis.set_ticks_position('none')\n",
    "    ax.xaxis.set_ticks_position('none')\n",
    "    \n",
    "    #now re-enable visibles\n",
    "    if top:\n",
    "        ax.xaxis.tick_top()\n",
    "    if bottom:\n",
    "        ax.xaxis.tick_bottom()\n",
    "    if left:\n",
    "        ax.yaxis.tick_left()\n",
    "    if right:\n",
    "        ax.yaxis.tick_right()\n",
    "        \n",
    "pd.set_option('display.width', 500)\n",
    "pd.set_option('display.max_columns', 100)"
   ]
  },
  {
   "cell_type": "code",
   "execution_count": 3,
   "metadata": {
    "collapsed": false
   },
   "outputs": [],
   "source": [
    "fulldf=pd.read_csv(\"bigdf.csv\") # Yelp restaurants dataset. \n",
    "fulldf.head(5)"
   ]
  },
  {
   "cell_type": "markdown",
   "metadata": {},
   "source": [
    "# EDA "
   ]
  },
  {
   "cell_type": "code",
   "execution_count": null,
   "metadata": {
    "collapsed": true
   },
   "outputs": [],
   "source": [
    "## Review count grouped by the user_id \n",
    "\n",
    "urc=fulldf.groupby('user_id').review_id.count()\n",
    "ax=urc.hist(bins=50, log=True)\n",
    "remove_border(ax)\n",
    "plt.xlabel(\"Reviews per user\")\n",
    "plt.grid(False)\n",
    "plt.grid(axis = 'y', color ='white', linestyle='-')\n",
    "plt.title(\"Review Count per User\");"
   ]
  },
  {
   "cell_type": "code",
   "execution_count": null,
   "metadata": {
    "collapsed": true
   },
   "outputs": [],
   "source": [
    "## Review count per Restaurant\n",
    "\n",
    "brc=fulldf.groupby('business_id').review_id.count()\n",
    "ax=brc.hist(bins=50, log=True)\n",
    "remove_border(ax)\n",
    "plt.xlabel(\"Reviews per restaurant\")\n",
    "plt.grid(False)\n",
    "plt.grid(axis = 'y', color ='white', linestyle='-')\n",
    "plt.title(\"Review Count per Restaurant\");"
   ]
  },
  {
   "cell_type": "code",
   "execution_count": null,
   "metadata": {
    "collapsed": true
   },
   "outputs": [],
   "source": [
    "print \"Number of Reviews\",fulldf.shape[0]\n",
    "print \"Number of Users\", fulldf.user_id.unique().shape[0], \"Number of Businesses\", fulldf.business_id.unique().shape[0]"
   ]
  },
  {
   "cell_type": "markdown",
   "metadata": {},
   "source": [
    "There are more users than businesses."
   ]
  },
  {
   "cell_type": "code",
   "execution_count": null,
   "metadata": {
    "collapsed": false
   },
   "outputs": [],
   "source": [
    "#average rating of reviews in the data set and a histogram of all the ratings in the dataset\n",
    "\n",
    "print \"Mean stars over all reviews:\",fulldf.stars.mean()\n",
    "stars=fulldf.stars\n",
    "ax=stars.hist(bins=5)\n",
    "remove_border(ax)\n",
    "plt.xlabel(\"Star rating\")\n",
    "plt.grid(False)\n",
    "plt.grid(axis = 'y', color ='white', linestyle='-')\n",
    "plt.title(\"Star ratings over all reviews\");"
   ]
  },
  {
   "cell_type": "code",
   "execution_count": null,
   "metadata": {
    "collapsed": true
   },
   "outputs": [],
   "source": [
    "## Function to find review counts and averages for smaller dataframe\n",
    "\n",
    "def recompute_frame(ldf):\n",
    "    ldfu=ldf.groupby('user_id')\n",
    "    ldfb=ldf.groupby('business_id')\n",
    "    user_avg=ldfu.stars.mean()\n",
    "    user_review_count=ldfu.review_id.count()\n",
    "    business_avg=ldfb.stars.mean()\n",
    "    business_review_count=ldfb.review_id.count()\n",
    "    nldf=ldf.copy()\n",
    "    nldf.set_index(['business_id'], inplace=True)\n",
    "    nldf['business_avg']=business_avg\n",
    "    nldf['business_review_count']=business_review_count\n",
    "    nldf.reset_index(inplace=True)\n",
    "    nldf.set_index(['user_id'], inplace=True)\n",
    "    nldf['user_avg']=user_avg\n",
    "    nldf['user_review_count']=user_review_count\n",
    "    nldf.reset_index(inplace=True)\n",
    "    return nldf"
   ]
  },
  {
   "cell_type": "code",
   "execution_count": null,
   "metadata": {
    "collapsed": true
   },
   "outputs": [],
   "source": [
    "# Ceating a smaller dataframe where user-review-count > 60 and business-review-count > 150\n",
    "\n",
    "smallidf=fulldf[(fulldf.user_review_count > 60) & (fulldf.business_review_count > 150)]\n",
    "smalldf=recompute_frame(smallidf)"
   ]
  },
  {
   "cell_type": "code",
   "execution_count": null,
   "metadata": {
    "collapsed": true
   },
   "outputs": [],
   "source": [
    "# Finding reviews per user and reviews per restaurant for new smaller dataframe\n",
    "print \"Total Number of Reviews\", smalldf.shape[0]\n",
    "print \"Users in this set\", smalldf.user_id.unique().shape[0], \"Restaurants\",smalldf.business_id.unique().shape[0]\n",
    "plt.figure()\n",
    "ax=smalldf.groupby('user_id').review_id.count().hist()\n",
    "remove_border(ax)\n",
    "plt.xlabel(\"Reviews per user\")\n",
    "plt.grid(False)\n",
    "plt.grid(axis = 'y', color ='white', linestyle='-')\n",
    "plt.figure()\n",
    "ax=smalldf.groupby('business_id').review_id.count().hist()\n",
    "remove_border(ax)\n",
    "plt.xlabel(\"Reviews per restaurant\")\n",
    "plt.grid(False)\n",
    "plt.grid(axis = 'y', color ='white', linestyle='-')"
   ]
  },
  {
   "cell_type": "code",
   "execution_count": null,
   "metadata": {
    "collapsed": true
   },
   "outputs": [],
   "source": [
    "# Finding average user rating and average business rating\n",
    "\n",
    "plt.figure()\n",
    "avg_ratings_by_user=smalldf.groupby('user_id').stars.mean()\n",
    "ax=avg_ratings_by_user.hist()\n",
    "remove_border(ax)\n",
    "plt.xlabel(\"Average review score\")\n",
    "plt.grid(False)\n",
    "plt.grid(axis = 'y', color ='white', linestyle='-')\n",
    "plt.title(\"Average User Rating\")\n",
    "plt.figure()\n",
    "\n",
    "avg_ratings_by_biz=smalldf.groupby('business_id').stars.mean()\n",
    "ax=avg_ratings_by_biz.hist()\n",
    "remove_border(ax)\n",
    "plt.xlabel(\"Average review score\")\n",
    "plt.grid(False)\n",
    "plt.grid(axis = 'y', color ='white', linestyle='-')\n",
    "plt.title(\"Average Restaurant Rating\")\n",
    "plt.figure()\n",
    "\n",
    "print smalldf.stars.mean()\n",
    "plt.figure()"
   ]
  },
  {
   "cell_type": "code",
   "execution_count": null,
   "metadata": {
    "collapsed": true
   },
   "outputs": [],
   "source": [
    "# Finding the number of common reviewers for each pair of restaurants .\n",
    "\n",
    "restaurants=smalldf.business_id.unique()\n",
    "supports=[]\n",
    "for i,rest1 in enumerate(restaurants):\n",
    "    for j,rest2 in enumerate(restaurants):\n",
    "        if  i < j:\n",
    "            rest1_reviewers = smalldf[smalldf.business_id==rest1].user_id.unique()\n",
    "            rest2_reviewers = smalldf[smalldf.business_id==rest2].user_id.unique()\n",
    "            common_reviewers = set(rest1_reviewers).intersection(rest2_reviewers)\n",
    "            supports.append(len(common_reviewers))\n",
    "print \"Mean support is:\",np.mean(supports)\n",
    "plt.hist(supports)"
   ]
  },
  {
   "cell_type": "code",
   "execution_count": null,
   "metadata": {
    "collapsed": true
   },
   "outputs": [],
   "source": [
    "# calculating similarity using pearson coef . between reviews of 2 restaurants by same set of users.\n",
    "\n",
    "from scipy.stats.stats import pearsonr\n",
    "def pearson_sim(rest1_reviews, rest2_reviews, n_common):\n",
    "    \"\"\"\n",
    "    Given a subframe of restaurant 1 reviews and a subframe of restaurant 2 reviews,\n",
    "    where the reviewers are those who have reviewed both restaurants, return \n",
    "    the pearson correlation coefficient between the user average subtracted ratings.\n",
    "    The case for zero common reviewers is handled separately. Its\n",
    "    ok to return a NaN if any of the individual variances are 0.\n",
    "    \"\"\"\n",
    "    if n_common==0:\n",
    "        rho=0.\n",
    "    else:\n",
    "        diff1=rest1_reviews['stars']-rest1_reviews['user_avg']\n",
    "        diff2=rest2_reviews['stars']-rest2_reviews['user_avg']\n",
    "        rho=pearsonr(diff1, diff2)[0]\n",
    "    return rho"
   ]
  },
  {
   "cell_type": "code",
   "execution_count": null,
   "metadata": {
    "collapsed": true
   },
   "outputs": [],
   "source": [
    "def get_restaurant_reviews(restaurant_id, df, set_of_users):\n",
    "    \"\"\"\n",
    "    given a resturant id and a set of reviewers, return the sub-dataframe of their\n",
    "    reviews.\n",
    "    \"\"\"\n",
    "    mask = (df.user_id.isin(set_of_users)) & (df.business_id==restaurant_id)\n",
    "    reviews = df[mask]\n",
    "    reviews = reviews[reviews.user_id.duplicated()==False]\n",
    "    return reviews"
   ]
  },
  {
   "cell_type": "code",
   "execution_count": null,
   "metadata": {
    "collapsed": true
   },
   "outputs": [],
   "source": [
    "def calculate_similarity(rest1, rest2, df, similarity_func):\n",
    "    # find common reviewers\n",
    "    rest1_reviewers = df[df.business_id==rest1].user_id.unique()\n",
    "    rest2_reviewers = df[df.business_id==rest2].user_id.unique()\n",
    "    common_reviewers = set(rest1_reviewers).intersection(rest2_reviewers)\n",
    "    n_common=len(common_reviewers)\n",
    "    #get reviews\n",
    "    rest1_reviews = get_restaurant_reviews(rest1, df, common_reviewers)\n",
    "    rest2_reviews = get_restaurant_reviews(rest2, df, common_reviewers)\n",
    "    sim=similarity_func(rest1_reviews, rest2_reviews, n_common)\n",
    "    if np.isnan(sim):\n",
    "        return 0, n_common\n",
    "    return sim, n_common"
   ]
  },
  {
   "cell_type": "code",
   "execution_count": null,
   "metadata": {
    "collapsed": true
   },
   "outputs": [],
   "source": [
    "class Database:\n",
    "    \"A class representing a database of similaries and common supports\"\n",
    "    \n",
    "    def __init__(self, df):\n",
    "        \"the constructor, takes a reviews dataframe like smalldf as its argument\"\n",
    "        database={}\n",
    "        self.df=df\n",
    "        self.uniquebizids={v:k for (k,v) in enumerate(df.business_id.unique())}\n",
    "        keys=self.uniquebizids.keys()\n",
    "        l_keys=len(keys)\n",
    "        self.database_sim=np.zeros([l_keys,l_keys])\n",
    "        self.database_sup=np.zeros([l_keys, l_keys], dtype=np.int)\n",
    "        \n",
    "    def populate_by_calculating(self, similarity_func):\n",
    "        \"\"\"\n",
    "        a populator for every pair of businesses in df. takes similarity_func like\n",
    "        pearson_sim as argument\n",
    "        \"\"\"\n",
    "        items=self.uniquebizids.items()\n",
    "        for b1, i1 in items:\n",
    "            for b2, i2 in items:\n",
    "                if i1 < i2:\n",
    "                    sim, nsup=calculate_similarity(b1, b2, self.df, similarity_func)\n",
    "                    self.database_sim[i1][i2]=sim\n",
    "                    self.database_sim[i2][i1]=sim\n",
    "                    self.database_sup[i1][i2]=nsup\n",
    "                    self.database_sup[i2][i1]=nsup\n",
    "                elif i1==i2:\n",
    "                    nsup=self.df[self.df.business_id==b1].user_id.count()\n",
    "                    self.database_sim[i1][i1]=1.\n",
    "                    self.database_sup[i1][i1]=nsup\n",
    "                    \n",
    "\n",
    "    def get(self, b1, b2):\n",
    "        \"returns a tuple of similarity,common_support given two business ids\"\n",
    "        sim=self.database_sim[self.uniquebizids[b1]][self.uniquebizids[b2]]\n",
    "        nsup=self.database_sup[self.uniquebizids[b1]][self.uniquebizids[b2]]\n",
    "        return (sim, nsup)"
   ]
  },
  {
   "cell_type": "code",
   "execution_count": null,
   "metadata": {
    "collapsed": true
   },
   "outputs": [],
   "source": [
    "db=Database(smalldf)\n",
    "db.populate_by_calculating(pearson_sim)"
   ]
  }
 ],
 "metadata": {
  "kernelspec": {
   "display_name": "Python 2",
   "language": "python",
   "name": "python2"
  },
  "language_info": {
   "codemirror_mode": {
    "name": "ipython",
    "version": 2
   },
   "file_extension": ".py",
   "mimetype": "text/x-python",
   "name": "python",
   "nbconvert_exporter": "python",
   "pygments_lexer": "ipython2",
   "version": "2.7.12"
  }
 },
 "nbformat": 4,
 "nbformat_minor": 0
}
